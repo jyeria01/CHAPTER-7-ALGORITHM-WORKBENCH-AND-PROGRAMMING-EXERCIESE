{
 "cells": [
  {
   "cell_type": "markdown",
   "id": "efa8c318",
   "metadata": {},
   "source": [
    "# Q7 - What will the following code print?\n",
    "###### list1 = [40, 50, 60]\n",
    "###### list2 = [10, 20, 30]\n",
    "###### list3 = list1 + list2\n",
    "###### print(list3)"
   ]
  },
  {
   "cell_type": "code",
   "execution_count": 1,
   "id": "d76d73a0",
   "metadata": {},
   "outputs": [
    {
     "name": "stdout",
     "output_type": "stream",
     "text": [
      "[40, 50, 60, 10, 20, 30]\n"
     ]
    }
   ],
   "source": [
    "# Create list to show what the code above will display\n",
    "def main():\n",
    "    \n",
    "    # Create list\n",
    "    list1 = [40, 50, 60]\n",
    "    list2 = [10, 20, 30]\n",
    "    list3 = list1 + list2\n",
    "    \n",
    "    #Display list\n",
    "    print(list3)\n",
    "\n",
    "# Call the main function\n",
    "if __name__ == '__main__':\n",
    "    main()"
   ]
  },
  {
   "cell_type": "markdown",
   "id": "33377a20",
   "metadata": {},
   "source": [
    "# Q 8 - Assume list1 is a list of integers. Write a statement that uses a list comprehension to create a second list containing the squares of the elements list1"
   ]
  },
  {
   "cell_type": "code",
   "execution_count": 2,
   "id": "333b62a5",
   "metadata": {},
   "outputs": [
    {
     "name": "stdout",
     "output_type": "stream",
     "text": [
      "[1, 9, 36, 81, 144, 225, 324, 441]\n"
     ]
    }
   ],
   "source": [
    "# Create a list of integers\n",
    "list1 = [1, 3, 6, 9, 12, 15, 18, 21]\n",
    "\n",
    "# List comprehension to create the squared list\n",
    "square_list = [n**2 for n in list1]\n",
    "\n",
    "# Display numbers in list 1 - squared\n",
    "print(square_list)"
   ]
  },
  {
   "cell_type": "markdown",
   "id": "14e03d1c",
   "metadata": {},
   "source": [
    "# 1 Programming Exercise - TOTAL SALES\n",
    "Design a program that asks the user to enter a store’s sales for each day of the week. The amounts should be stored in a list. Use a loop to calculate the total sales for the week and display the result."
   ]
  },
  {
   "cell_type": "code",
   "execution_count": 3,
   "id": "89b39505",
   "metadata": {},
   "outputs": [],
   "source": [
    "# Initialize an empty list\n",
    "# Day of the Week\n",
    "# Get sales for each day\n",
    "# Total sales for the week\n",
    "# Display total sales for the week\n",
    "# Call to the main function"
   ]
  },
  {
   "cell_type": "code",
   "execution_count": 4,
   "id": "97c920a9",
   "metadata": {},
   "outputs": [
    {
     "name": "stdout",
     "output_type": "stream",
     "text": [
      "Enter the sales for Monday: $100\n",
      "Enter the sales for Tuesday: $500\n",
      "Enter the sales for Wednesday: $1700\n",
      "Enter the sales for Thursday: $2800\n",
      "Enter the sales for Friday: $5000\n",
      "Enter the sales for Saturday: $12000\n",
      "Enter the sales for Sunday: $750\n",
      "Total sales for the week $22,850.00\n"
     ]
    }
   ],
   "source": [
    "def main():\n",
    "    \n",
    "    # Intialize empty list\n",
    "    weekly_sales = []\n",
    "    \n",
    "    # Days of the week\n",
    "    days_of_week = ['Monday', 'Tuesday', 'Wednesday', 'Thursday', 'Friday', 'Saturday', 'Sunday']\n",
    "    \n",
    "    # Loop for sales for each day of the week\n",
    "    for day in days_of_week:\n",
    "        # User input sales for that day\n",
    "        sales = float(input(f'Enter the sales for {day}: $'))\n",
    "        weekly_sales.append(sales)\n",
    "        \n",
    "    # Calculate total sales for the week\n",
    "    total_sales = sum(weekly_sales)\n",
    "    \n",
    "    # Display total sales for the week\n",
    "    print(f'Total sales for the week ${total_sales:,.2f}')\n",
    "    \n",
    "# Call the main function\n",
    "if __name__ == '__main__':\n",
    "    main()"
   ]
  },
  {
   "cell_type": "markdown",
   "id": "39842557",
   "metadata": {},
   "source": [
    "# 2 - Programming Exercise - Lottery Number Generator\n",
    "Design a program that generates a seven-digit lottery number. The program should generate seven random numbers, each in the range of 0 through 9, and assign each number to a list element. (Random numbers were discussed in Chapter 5.) Then write another loop that displays the contents of the list."
   ]
  },
  {
   "cell_type": "code",
   "execution_count": 5,
   "id": "2471f19a",
   "metadata": {},
   "outputs": [],
   "source": [
    "# Import random module\n",
    "# Empty list to store the lottery numbers\n",
    "# Generate 7 random numbers and add to list\n",
    "# Generate the lottery numbers\n",
    "# Display the lottery list of numbers\n",
    "# Call the main function"
   ]
  },
  {
   "cell_type": "code",
   "execution_count": 6,
   "id": "3a6ac7a9",
   "metadata": {},
   "outputs": [
    {
     "name": "stdout",
     "output_type": "stream",
     "text": [
      "Lottery Numbers:\n",
      "2\n",
      "9\n",
      "5\n",
      "0\n",
      "3\n",
      "9\n",
      "0\n"
     ]
    }
   ],
   "source": [
    "import random\n",
    "def main():\n",
    "    \n",
    "    # Empty list to store the lottery numbers\n",
    "    lottery_numbers = []\n",
    "    \n",
    "    # Generate 7 random number and add to list\n",
    "    for i in range(7):\n",
    "        lottery_numbers.append(random.randint(0,9))\n",
    "    \n",
    "    # Display lottery numbers\n",
    "    print('Lottery Numbers:')\n",
    "    for number in lottery_numbers:\n",
    "        print(number)\n",
    "        \n",
    "# Call the main function\n",
    "if __name__ == '__main__':\n",
    "    main()"
   ]
  },
  {
   "cell_type": "markdown",
   "id": "a6f7d9aa",
   "metadata": {},
   "source": [
    "# 3 - Programming Exercise - Rainfall Statistics\n",
    "Design a program that lets the user enter the total rainfall for each of 12 months into a list. The program should calculate and display the total rainfall for the year, the average monthly rainfall, the months with the highest and lowest amounts"
   ]
  },
  {
   "cell_type": "code",
   "execution_count": 7,
   "id": "0f43de57",
   "metadata": {},
   "outputs": [],
   "source": [
    "# List to store monthly rainfall\n",
    "# List of months names\n",
    "# Get rainfail from the user for each month\n",
    "# Total rainfall for the year\n",
    "# Average rainfall\n",
    "# month w/ highest and lowest rainfall\n",
    "# Display rainfall results\n",
    "# Call the main function"
   ]
  },
  {
   "cell_type": "code",
   "execution_count": 20,
   "id": "c6c48c64",
   "metadata": {},
   "outputs": [
    {
     "name": "stdout",
     "output_type": "stream",
     "text": [
      "Enter the rainfall for the January: .28\n",
      "Enter the rainfall for the February: 2.18\n",
      "Enter the rainfall for the March: .77\n",
      "Enter the rainfall for the April: .90\n",
      "Enter the rainfall for the May: 1.72\n",
      "Enter the rainfall for the June: .44\n",
      "Enter the rainfall for the July: .83\n",
      "Enter the rainfall for the August: 1.90\n",
      "Enter the rainfall for the September: .93\n",
      "Enter the rainfall for the October: .37\n",
      "Enter the rainfall for the November: .31\n",
      "Enter the rainfall for the December: .30\n"
     ]
    },
    {
     "ename": "NameError",
     "evalue": "name 'raifall_list' is not defined",
     "output_type": "error",
     "traceback": [
      "\u001b[1;31m---------------------------------------------------------------------------\u001b[0m",
      "\u001b[1;31mNameError\u001b[0m                                 Traceback (most recent call last)",
      "Cell \u001b[1;32mIn[20], line 32\u001b[0m\n\u001b[0;32m     30\u001b[0m \u001b[38;5;66;03m# Call the main fucntion\u001b[39;00m\n\u001b[0;32m     31\u001b[0m \u001b[38;5;28;01mif\u001b[39;00m \u001b[38;5;18m__name__\u001b[39m \u001b[38;5;241m==\u001b[39m \u001b[38;5;124m'\u001b[39m\u001b[38;5;124m__main__\u001b[39m\u001b[38;5;124m'\u001b[39m:\n\u001b[1;32m---> 32\u001b[0m     main()\n",
      "Cell \u001b[1;32mIn[20], line 18\u001b[0m, in \u001b[0;36mmain\u001b[1;34m()\u001b[0m\n\u001b[0;32m     15\u001b[0m total_rainfall \u001b[38;5;241m=\u001b[39m \u001b[38;5;28msum\u001b[39m(rainfall_list)\n\u001b[0;32m     17\u001b[0m \u001b[38;5;66;03m# Average rainfall monthly\u001b[39;00m\n\u001b[1;32m---> 18\u001b[0m average_rainfall \u001b[38;5;241m=\u001b[39m total_rainfall \u001b[38;5;241m/\u001b[39m \u001b[38;5;28mlen\u001b[39m(raifall_list)\n\u001b[0;32m     20\u001b[0m \u001b[38;5;66;03m# Months with highest and lowest rainfall\u001b[39;00m\n\u001b[0;32m     21\u001b[0m max_rainfall \u001b[38;5;241m=\u001b[39m \u001b[38;5;28mmax\u001b[39m(rainfall_list)\n",
      "\u001b[1;31mNameError\u001b[0m: name 'raifall_list' is not defined"
     ]
    }
   ],
   "source": [
    "def main():\n",
    "    \n",
    "    # List to store monthly rainfall\n",
    "    rainfall_list = []\n",
    "    \n",
    "    # List of months names\n",
    "    months = ['January', 'February', 'March', 'April', 'May', 'June', 'July', 'August', 'September', 'October', 'November', 'December']\n",
    "    \n",
    "    # Get rainfall from the user for each month\n",
    "    for month in months:\n",
    "        rainfall = float(input(f'Enter the rainfall for the {month}: '))\n",
    "        rainfall_list.append(rainfall)\n",
    "        \n",
    "    # Total rainfall for the year\n",
    "    total_rainfall = sum(rainfall_list)\n",
    "    \n",
    "    # Average rainfall monthly\n",
    "    average_rainfall = total_rainfall / len(raifall_list)\n",
    "    \n",
    "    # Months with highest and lowest rainfall\n",
    "    max_rainfall = max(rainfall_list)\n",
    "    min_rainfall = min(rainfall_list)\n",
    "    \n",
    "    # Display the results found for LANSING MICHIGAN 2022\n",
    "    print(f'Total of rainfall for Lansing, Michigan 2022: {total_rainfall} inches')\n",
    "    print(f'Average monthly rainfall for Lansing, Michigan 2022: {average_railfall}')\n",
    "    print('Month with the highest rainfall in Lansing, Michigan 2022: {max_month} ({max_rainfall} inches)')\n",
    "    print('Month with the lowest rainfall in Lansing, Michigan 2022: {min_month} ({min_rainfall} inches)')\n",
    "\n",
    "# Call the main fucntion\n",
    "if __name__ == '__main__':\n",
    "    main()"
   ]
  },
  {
   "cell_type": "code",
   "execution_count": null,
   "id": "0394a2c6",
   "metadata": {},
   "outputs": [],
   "source": []
  }
 ],
 "metadata": {
  "kernelspec": {
   "display_name": "Python 3 (ipykernel)",
   "language": "python",
   "name": "python3"
  },
  "language_info": {
   "codemirror_mode": {
    "name": "ipython",
    "version": 3
   },
   "file_extension": ".py",
   "mimetype": "text/x-python",
   "name": "python",
   "nbconvert_exporter": "python",
   "pygments_lexer": "ipython3",
   "version": "3.11.4"
  }
 },
 "nbformat": 4,
 "nbformat_minor": 5
}
