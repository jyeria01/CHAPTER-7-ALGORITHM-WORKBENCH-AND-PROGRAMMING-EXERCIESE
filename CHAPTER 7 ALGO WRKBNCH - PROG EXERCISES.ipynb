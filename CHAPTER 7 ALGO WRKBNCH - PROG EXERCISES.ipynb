{
 "cells": [
  {
   "cell_type": "markdown",
   "id": "7cb58545",
   "metadata": {},
   "source": [
    "# Q7 - What will the following code print?\n",
    "###### list1 = [40, 50, 60]\n",
    "###### list2 = [10, 20, 30]\n",
    "###### list3 = list1 + list2\n",
    "###### print(list3)"
   ]
  },
  {
   "cell_type": "code",
   "execution_count": 1,
   "id": "92e504ca",
   "metadata": {},
   "outputs": [
    {
     "name": "stdout",
     "output_type": "stream",
     "text": [
      "[40, 50, 60, 10, 20, 30]\n"
     ]
    }
   ],
   "source": [
    "# Create list to show what the code above will display\n",
    "def main():\n",
    "    \n",
    "    # Create list\n",
    "    list1 = [40, 50, 60]\n",
    "    list2 = [10, 20, 30]\n",
    "    list3 = list1 + list2\n",
    "    \n",
    "    #Display list\n",
    "    print(list3)\n",
    "\n",
    "# Call the main function\n",
    "if __name__ == '__main__':\n",
    "    main()"
   ]
  },
  {
   "cell_type": "markdown",
   "id": "001c4e28",
   "metadata": {},
   "source": [
    "# Q 8 - Assume list1 is a list of integers. Write a statement that uses a list comprehension to create a second list containing the squares of the elements list1"
   ]
  },
  {
   "cell_type": "code",
   "execution_count": 2,
   "id": "7ebca76f",
   "metadata": {},
   "outputs": [
    {
     "name": "stdout",
     "output_type": "stream",
     "text": [
      "[1, 9, 36, 81, 144, 225, 324, 441]\n"
     ]
    }
   ],
   "source": [
    "# Create a list of integers\n",
    "list1 = [1, 3, 6, 9, 12, 15, 18, 21]\n",
    "\n",
    "# List comprehension to create the squared list\n",
    "square_list = [n**2 for n in list1]\n",
    "\n",
    "# Display numbers in list 1 - squared\n",
    "print(square_list)"
   ]
  },
  {
   "cell_type": "markdown",
   "id": "119aed6e",
   "metadata": {},
   "source": [
    "# 1 Programming Exercise - TOTAL SALES\n",
    "Design a program that asks the user to enter a store’s sales for each day of the week. The amounts should be stored in a list. Use a loop to calculate the total sales for the week and display the result."
   ]
  },
  {
   "cell_type": "code",
   "execution_count": 3,
   "id": "bb77e727",
   "metadata": {},
   "outputs": [],
   "source": [
    "# Initialize an empty list\n",
    "# Day of the Week\n",
    "# Get sales for each day\n",
    "# Total sales for the week\n",
    "# Display total sales for the week\n",
    "# Call to the main function"
   ]
  },
  {
   "cell_type": "code",
   "execution_count": 4,
   "id": "4e418eee",
   "metadata": {},
   "outputs": [
    {
     "name": "stdout",
     "output_type": "stream",
     "text": [
      "Enter the sales for Monday: $1000\n",
      "Enter the sales for Tuesday: $500\n",
      "Enter the sales for Wednesday: $1700\n",
      "Enter the sales for Thursday: $2800\n",
      "Enter the sales for Friday: $5000\n",
      "Enter the sales for Saturday: $12000\n",
      "Enter the sales for Sunday: $750\n",
      "Total sales for the week $23,750.00\n"
     ]
    }
   ],
   "source": [
    "def main():\n",
    "    \n",
    "    # Intialize empty list\n",
    "    weekly_sales = []\n",
    "    \n",
    "    # Days of the week\n",
    "    days_of_week = ['Monday', 'Tuesday', 'Wednesday', 'Thursday', 'Friday', 'Saturday', 'Sunday']\n",
    "    \n",
    "    # Loop for sales for each day of the week\n",
    "    for day in days_of_week:\n",
    "        # User input sales for that day\n",
    "        sales = float(input(f'Enter the sales for {day}: $'))\n",
    "        weekly_sales.append(sales)\n",
    "        \n",
    "    # Calculate total sales for the week\n",
    "    total_sales = sum(weekly_sales)\n",
    "    \n",
    "    # Display total sales for the week\n",
    "    print(f'Total sales for the week ${total_sales:,.2f}')\n",
    "    \n",
    "# Call the main function\n",
    "if __name__ == '__main__':\n",
    "    main()"
   ]
  },
  {
   "cell_type": "markdown",
   "id": "fbff4073",
   "metadata": {},
   "source": [
    "# 2 - Programming Exercise - Lottery Number Generator\n",
    "Design a program that generates a seven-digit lottery number. The program should generate seven random numbers, each in the range of 0 through 9, and assign each number to a list element. (Random numbers were discussed in Chapter 5.) Then write another loop that displays the contents of the list."
   ]
  },
  {
   "cell_type": "code",
   "execution_count": 5,
   "id": "fd0a8023",
   "metadata": {},
   "outputs": [],
   "source": [
    "# Import random module\n",
    "# Empty list to store the lottery numbers\n",
    "# Generate 7 random numbers and add to list\n",
    "# Generate the lottery numbers\n",
    "# Display the lottery list of numbers\n",
    "# Call the main function"
   ]
  },
  {
   "cell_type": "code",
   "execution_count": 6,
   "id": "33848079",
   "metadata": {},
   "outputs": [
    {
     "name": "stdout",
     "output_type": "stream",
     "text": [
      "Lottery Numbers:\n",
      "7\n",
      "7\n",
      "8\n",
      "6\n",
      "4\n",
      "3\n",
      "1\n"
     ]
    }
   ],
   "source": [
    "import random\n",
    "def main():\n",
    "    \n",
    "    # Empty list to store the lottery numbers\n",
    "    lottery_numbers = []\n",
    "    \n",
    "    # Generate 7 random number and add to list\n",
    "    for i in range(7):\n",
    "        lottery_numbers.append(random.randint(0,9))\n",
    "    \n",
    "    # Display lottery numbers\n",
    "    print('Lottery Numbers:')\n",
    "    for number in lottery_numbers:\n",
    "        print(number)\n",
    "        \n",
    "# Call the main function\n",
    "if __name__ == '__main__':\n",
    "    main()"
   ]
  },
  {
   "cell_type": "markdown",
   "id": "2f59a481",
   "metadata": {},
   "source": [
    "# 3 - Programming Exercise - Rainfall Statistics\n",
    "Design a program that lets the user enter the total rainfall for each of 12 months into a list. The program should calculate and display the total rainfall for the year, the average monthly rainfall, the months with the highest and lowest amounts"
   ]
  },
  {
   "cell_type": "code",
   "execution_count": 7,
   "id": "9c34995e",
   "metadata": {},
   "outputs": [],
   "source": [
    "# List to store monthly rainfall\n",
    "# List of months names\n",
    "# Get rainfail from the user for each month\n",
    "# Total rainfall for the year\n",
    "# Average rainfall\n",
    "# month w/ highest and lowest rainfall\n",
    "# Display rainfall results\n",
    "# Call the main function"
   ]
  },
  {
   "cell_type": "code",
   "execution_count": 9,
   "id": "a379be40",
   "metadata": {},
   "outputs": [
    {
     "name": "stdout",
     "output_type": "stream",
     "text": [
      "Enter the rainfall for the January: .28\n",
      "Enter the rainfall for the February: 2.18\n",
      "Enter the rainfall for the March: .77\n",
      "Enter the rainfall for the April: .90\n",
      "Enter the rainfall for the May: 1.72\n",
      "Enter the rainfall for the June: .44\n",
      "Enter the rainfall for the July: .83\n",
      "Enter the rainfall for the August: 1.90\n",
      "Enter the rainfall for the September: .93\n",
      "Enter the rainfall for the October: .37\n",
      "Enter the rainfall for the November: .31\n",
      "Enter the rainfall for the December: .30\n",
      "Total of rainfall for Lansing, Michigan 2022: 10.93 inches\n",
      "Average monthly rainfall for Lansing, Michigan 2022: 0.91\n",
      "Month with the highest rainfall in Lansing, Michigan 2022: February (2.18 inches)\n",
      "Month with the lowest rainfall in Lansing, Michigan 2022: January (0.28 inches)\n"
     ]
    }
   ],
   "source": [
    "def main():\n",
    "    \n",
    "    # List to store monthly rainfall\n",
    "    rainfall_list = []\n",
    "    \n",
    "    # List of months names\n",
    "    months = ['January', 'February', 'March', 'April', 'May', 'June', 'July', 'August', 'September', 'October', 'November', 'December']\n",
    "    \n",
    "    # Rainfall amounts for LANSING, MI provided by weatherunderground.com\n",
    "    # https://www.wunderground.com/history/monthly/us/mi/lansing/KLAN/date/2022-12\n",
    "    # Get rainfall from the user for each month\n",
    "    for month in months:\n",
    "        rainfall = float(input(f'Enter the rainfall for the {month}: '))\n",
    "        rainfall_list.append(rainfall)\n",
    "        \n",
    "    # Total rainfall for the year\n",
    "    total_rainfall = sum(rainfall_list)\n",
    "    \n",
    "    # Average rainfall monthly\n",
    "    average_rainfall = total_rainfall / len(rainfall_list)\n",
    "    \n",
    "    # Months with highest and lowest rainfall\n",
    "    max_rainfall = max(rainfall_list)\n",
    "    min_rainfall = min(rainfall_list)\n",
    "    \n",
    "    max_month = months[rainfall_list.index(max_rainfall)]\n",
    "    min_month = months[rainfall_list.index(min_rainfall)]\n",
    "    \n",
    "    # Display the results found for LANSING MICHIGAN 2022\n",
    "    print(f'Total of rainfall for Lansing, Michigan 2022: {total_rainfall} inches')\n",
    "    print(f'Average monthly rainfall for Lansing, Michigan 2022: {average_rainfall:.2f}')\n",
    "    print(f'Month with the highest rainfall in Lansing, Michigan 2022: {max_month} ({max_rainfall} inches)')\n",
    "    print(f'Month with the lowest rainfall in Lansing, Michigan 2022: {min_month} ({min_rainfall} inches)')\n",
    "\n",
    "# Call the main fucntion\n",
    "if __name__ == '__main__':\n",
    "    main()"
   ]
  },
  {
   "cell_type": "markdown",
   "id": "1662e28c",
   "metadata": {},
   "source": [
    "# 14 - PROGRAMMING EXERCISE - EXPENSE PIE CHART\n",
    "Create a text file that contains your expenses for last month in the following categories:\n",
    "###### RENT, GAS, FOOD, CLOTHING, CAR PAYMENT AND MISC\n",
    "Write a Python program that reads the data from the file and uses  to plot a pie chart showing how you spend your money"
   ]
  },
  {
   "cell_type": "code",
   "execution_count": 1,
   "id": "585872a0",
   "metadata": {},
   "outputs": [],
   "source": [
    "# Import matplotlib as plt\n",
    "# expense data\n",
    "# File name\n",
    "# open file for writing expense data\n",
    "# create pie chart\n",
    "# Display chart\n",
    "# Call the main function"
   ]
  },
  {
   "cell_type": "code",
   "execution_count": 12,
   "id": "2f580287",
   "metadata": {},
   "outputs": [
    {
     "data": {
      "image/png": "[encoded data removed]",
      "text/plain": [
       "<Figure size 640x480 with 1 Axes>"
      ]
     },
     "metadata": {},
     "output_type": "display_data"
    }
   ],
   "source": [
    "import matplotlib.pyplot as plt\n",
    "def main():\n",
    "    # Expense data\n",
    "    expenses = ['925', '100', '350', '125', '275', '225']\n",
    "    \n",
    "    # Category label\n",
    "    categories = ['Rent', 'Gas', 'Food', 'Clothing', 'Car payment', 'Misc']\n",
    "    \n",
    "    # Expense data categories create text file\n",
    "    with open('expenses.txt', 'w') as f:\n",
    "        for categories, expenses in zip(categories, expenses):\n",
    "            f.write(f'{categories}, {expenses}\\n')\n",
    "    \n",
    "    # Read data from text file\n",
    "    with open('expenses.txt', 'r') as f:\n",
    "        lines = f.readlines()\n",
    "        \n",
    "    # Data from the text file\n",
    "    data = [line.strip().split(',') for line in lines]\n",
    "    categories = [item[0] for item in data]\n",
    "    expenses =[float(item[1]) for item in data]\n",
    "    \n",
    "    # Title for pie chart\n",
    "    plt.title('Last Month Expenses')\n",
    "    \n",
    "    \n",
    "if __name__ == '__main__':\n",
    "    main()"
   ]
  },
  {
   "cell_type": "code",
   "execution_count": null,
   "id": "5d69bb2c",
   "metadata": {},
   "outputs": [],
   "source": []
  }
 ],
 "metadata": {
  "kernelspec": {
   "display_name": "Python 3 (ipykernel)",
   "language": "python",
   "name": "python3"
  },
  "language_info": {
   "codemirror_mode": {
    "name": "ipython",
    "version": 3
   },
   "file_extension": ".py",
   "mimetype": "text/x-python",
   "name": "python",
   "nbconvert_exporter": "python",
   "pygments_lexer": "ipython3",
   "version": "3.11.4"
  }
 },
 "nbformat": 4,
 "nbformat_minor": 5
}
