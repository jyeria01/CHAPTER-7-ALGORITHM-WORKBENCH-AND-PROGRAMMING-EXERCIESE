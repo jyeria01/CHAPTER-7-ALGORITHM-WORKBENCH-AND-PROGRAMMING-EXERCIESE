{
 "cells": [
  {
   "cell_type": "markdown",
   "id": "950d48af",
   "metadata": {},
   "source": [
    "# Q7 - What will the following code print?\n",
    "###### list1 = [40, 50, 60]\n",
    "###### list2 = [10, 20, 30]\n",
    "###### list3 = list1 + list2\n",
    "###### print(list3)"
   ]
  },
  {
   "cell_type": "code",
   "execution_count": 1,
   "id": "d1cf4762",
   "metadata": {},
   "outputs": [
    {
     "name": "stdout",
     "output_type": "stream",
     "text": [
      "[40, 50, 60, 10, 20, 30]\n"
     ]
    }
   ],
   "source": [
    "# Create list to show what the code above will display\n",
    "def main():\n",
    "    \n",
    "    # Create list\n",
    "    list1 = [40, 50, 60]\n",
    "    list2 = [10, 20, 30]\n",
    "    list3 = list1 + list2\n",
    "    \n",
    "    #Display list\n",
    "    print(list3)\n",
    "\n",
    "# Call the main function\n",
    "if __name__ == '__main__':\n",
    "    main()"
   ]
  },
  {
   "cell_type": "markdown",
   "id": "ddd73fbf",
   "metadata": {},
   "source": [
    "# Q 8 - Assume list1 is a list of integers. Write a statement that uses a list comprehension to create a second list containing the squares of the elements list1"
   ]
  },
  {
   "cell_type": "code",
   "execution_count": 2,
   "id": "8d75ede7",
   "metadata": {},
   "outputs": [
    {
     "name": "stdout",
     "output_type": "stream",
     "text": [
      "[1, 9, 36, 81, 144, 225, 324, 441]\n"
     ]
    }
   ],
   "source": [
    "# Create a list of integers\n",
    "list1 = [1, 3, 6, 9, 12, 15, 18, 21]\n",
    "\n",
    "# List comprehension to create the squared list\n",
    "square_list = [n**2 for n in list1]\n",
    "\n",
    "# Display numbers in list 1 - squared\n",
    "print(square_list)"
   ]
  },
  {
   "cell_type": "markdown",
   "id": "2c5d04fb",
   "metadata": {},
   "source": [
    "# 1 Programming Exercise - TOTAL SALES\n",
    "Design a program that asks the user to enter a store’s sales for each day of the week. The amounts should be stored in a list. Use a loop to calculate the total sales for the week and display the result."
   ]
  },
  {
   "cell_type": "code",
   "execution_count": 3,
   "id": "fd25b13c",
   "metadata": {},
   "outputs": [],
   "source": [
    "# Initialize an empty list\n",
    "# Day of the Week\n",
    "# Get sales for each day\n",
    "# Total sales for the week\n",
    "# Display total sales for the week\n",
    "# Call to the main function"
   ]
  },
  {
   "cell_type": "code",
   "execution_count": 6,
   "id": "cc0152c7",
   "metadata": {},
   "outputs": [
    {
     "ename": "SyntaxError",
     "evalue": "incomplete input (3141183686.py, line 12)",
     "output_type": "error",
     "traceback": [
      "\u001b[1;36m  Cell \u001b[1;32mIn[6], line 12\u001b[1;36m\u001b[0m\n\u001b[1;33m    sales = float(input(f'Enter the sales for {day}: $')\u001b[0m\n\u001b[1;37m                                                        ^\u001b[0m\n\u001b[1;31mSyntaxError\u001b[0m\u001b[1;31m:\u001b[0m incomplete input\n"
     ]
    }
   ],
   "source": [
    "def main():\n",
    "    \n",
    "    # Intialize empty list\n",
    "    weekly_sales = []\n",
    "    \n",
    "    # Days of the week\n",
    "    days_of_week = ['Monday', 'Tuesday', 'Wednesday', 'Thursday', 'Friday', 'Saturday', 'Sunday']\n",
    "    \n",
    "    # Loop for sales for each day of the week\n",
    "    for day in days_of_week:\n",
    "        # User input sales for that day\n",
    "        sales = float(input(f'Enter the sales for {day}: $')"
   ]
  },
  {
   "cell_type": "code",
   "execution_count": null,
   "id": "e6094af2",
   "metadata": {},
   "outputs": [],
   "source": []
  }
 ],
 "metadata": {
  "kernelspec": {
   "display_name": "Python 3 (ipykernel)",
   "language": "python",
   "name": "python3"
  },
  "language_info": {
   "codemirror_mode": {
    "name": "ipython",
    "version": 3
   },
   "file_extension": ".py",
   "mimetype": "text/x-python",
   "name": "python",
   "nbconvert_exporter": "python",
   "pygments_lexer": "ipython3",
   "version": "3.11.4"
  }
 },
 "nbformat": 4,
 "nbformat_minor": 5
}
