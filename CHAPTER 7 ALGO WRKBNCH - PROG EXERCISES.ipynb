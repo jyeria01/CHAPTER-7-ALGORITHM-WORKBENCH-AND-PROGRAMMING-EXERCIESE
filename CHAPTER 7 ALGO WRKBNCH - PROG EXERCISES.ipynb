{
 "cells": [
  {
   "cell_type": "markdown",
   "id": "21798159",
   "metadata": {},
   "source": [
    "# Q7 - What will the following code print?\n",
    "###### list1 = [40, 50, 60]\n",
    "###### list2 = [10, 20, 30]\n",
    "###### list3 = list1 + list2\n",
    "###### print(list3)"
   ]
  },
  {
   "cell_type": "code",
   "execution_count": 1,
   "id": "8c80b848",
   "metadata": {},
   "outputs": [
    {
     "name": "stdout",
     "output_type": "stream",
     "text": [
      "[40, 50, 60, 10, 20, 30]\n"
     ]
    }
   ],
   "source": [
    "# Create list to show what the code above will display\n",
    "def main():\n",
    "    \n",
    "    # Create list\n",
    "    list1 = [40, 50, 60]\n",
    "    list2 = [10, 20, 30]\n",
    "    list3 = list1 + list2\n",
    "    \n",
    "    #Display list\n",
    "    print(list3)\n",
    "\n",
    "# Call the main function\n",
    "if __name__ == '__main__':\n",
    "    main()"
   ]
  },
  {
   "cell_type": "markdown",
   "id": "c22d883b",
   "metadata": {},
   "source": [
    "# Q 8 - Assume list1 is a list of integers. Write a statement that uses a list comprehension to create a second list containing the squares of the elements list1"
   ]
  },
  {
   "cell_type": "code",
   "execution_count": 2,
   "id": "20b0a723",
   "metadata": {},
   "outputs": [
    {
     "name": "stdout",
     "output_type": "stream",
     "text": [
      "[1, 9, 36, 81, 144, 225, 324, 441]\n"
     ]
    }
   ],
   "source": [
    "# Create a list of integers\n",
    "list1 = [1, 3, 6, 9, 12, 15, 18, 21]\n",
    "\n",
    "# List comprehension to create the squared list\n",
    "square_list = [n**2 for n in list1]\n",
    "\n",
    "# Display numbers in list 1 - squared\n",
    "print(square_list)"
   ]
  },
  {
   "cell_type": "markdown",
   "id": "41b51962",
   "metadata": {},
   "source": [
    "# 1 Programming Exercise - TOTAL SALES\n",
    "Design a program that asks the user to enter a store’s sales for each day of the week. The amounts should be stored in a list. Use a loop to calculate the total sales for the week and display the result."
   ]
  },
  {
   "cell_type": "code",
   "execution_count": 3,
   "id": "c5db42ca",
   "metadata": {},
   "outputs": [],
   "source": [
    "# Initialize an empty list\n",
    "# Day of the Week\n",
    "# Get sales for each day\n",
    "# Total sales for the week\n",
    "# Display total sales for the week\n",
    "# Call to the main function"
   ]
  },
  {
   "cell_type": "code",
   "execution_count": 4,
   "id": "33a3c1ee",
   "metadata": {},
   "outputs": [
    {
     "name": "stdout",
     "output_type": "stream",
     "text": [
      "Enter the sales for Monday: $100\n",
      "Enter the sales for Tuesday: $500\n",
      "Enter the sales for Wednesday: $1700\n",
      "Enter the sales for Thursday: $2800\n",
      "Enter the sales for Friday: $5000\n",
      "Enter the sales for Saturday: $12000\n",
      "Enter the sales for Sunday: $750\n",
      "Total sales for the week $22,850.00\n"
     ]
    }
   ],
   "source": [
    "def main():\n",
    "    \n",
    "    # Intialize empty list\n",
    "    weekly_sales = []\n",
    "    \n",
    "    # Days of the week\n",
    "    days_of_week = ['Monday', 'Tuesday', 'Wednesday', 'Thursday', 'Friday', 'Saturday', 'Sunday']\n",
    "    \n",
    "    # Loop for sales for each day of the week\n",
    "    for day in days_of_week:\n",
    "        # User input sales for that day\n",
    "        sales = float(input(f'Enter the sales for {day}: $'))\n",
    "        weekly_sales.append(sales)\n",
    "        \n",
    "    # Calculate total sales for the week\n",
    "    total_sales = sum(weekly_sales)\n",
    "    \n",
    "    # Display total sales for the week\n",
    "    print(f'Total sales for the week ${total_sales:,.2f}')\n",
    "    \n",
    "# Call the main function\n",
    "if __name__ == '__main__':\n",
    "    main()"
   ]
  },
  {
   "cell_type": "markdown",
   "id": "42bea203",
   "metadata": {},
   "source": [
    "# 2 - Programming Exercise - Lottery Number Generator\n",
    "Design a program that generates a seven-digit lottery number. The program should generate seven random numbers, each in the range of 0 through 9, and assign each number to a list element. (Random numbers were discussed in Chapter 5.) Then write another loop that displays the contents of the list."
   ]
  },
  {
   "cell_type": "code",
   "execution_count": 5,
   "id": "d83b71f5",
   "metadata": {},
   "outputs": [],
   "source": [
    "# Import random module\n",
    "# Empty list to store the lottery numbers\n",
    "# Generate 7 random numbers and add to list\n",
    "# Generate the lottery numbers\n",
    "# Display the lottery list of numbers\n",
    "# Call the main function"
   ]
  },
  {
   "cell_type": "code",
   "execution_count": 6,
   "id": "c9ba79e3",
   "metadata": {},
   "outputs": [
    {
     "name": "stdout",
     "output_type": "stream",
     "text": [
      "Lottery Numbers:\n",
      "2\n",
      "9\n",
      "5\n",
      "0\n",
      "3\n",
      "9\n",
      "0\n"
     ]
    }
   ],
   "source": [
    "import random\n",
    "def main():\n",
    "    \n",
    "    # Empty list to store the lottery numbers\n",
    "    lottery_numbers = []\n",
    "    \n",
    "    # Generate 7 random number and add to list\n",
    "    for i in range(7):\n",
    "        lottery_numbers.append(random.randint(0,9))\n",
    "    \n",
    "    # Display lottery numbers\n",
    "    print('Lottery Numbers:')\n",
    "    for number in lottery_numbers:\n",
    "        print(number)\n",
    "        \n",
    "# Call the main function\n",
    "if __name__ == '__main__':\n",
    "    main()"
   ]
  },
  {
   "cell_type": "markdown",
   "id": "3d815206",
   "metadata": {},
   "source": [
    "# 3 - Programming Exercise - Rainfall Statistics\n",
    "Design a program that lets the user enter the total rainfall for each of 12 months into a list. The program should calculate and display the total rainfall for the year, the average monthly rainfall, the months with the highest and lowest amounts"
   ]
  },
  {
   "cell_type": "code",
   "execution_count": 7,
   "id": "442f6425",
   "metadata": {},
   "outputs": [],
   "source": [
    "# List to store monthly rainfall\n",
    "# List of months names\n",
    "# Get rainfail from the user for each month\n",
    "# Total rainfall for the year\n",
    "# Average rainfall\n",
    "# month w/ highest and lowest rainfall\n",
    "# Display rainfall results\n",
    "# Call the main function"
   ]
  },
  {
   "cell_type": "code",
   "execution_count": 15,
   "id": "8b38c722",
   "metadata": {},
   "outputs": [],
   "source": [
    "def main():\n",
    "    \n",
    "    # List to store monthly rainfall\n",
    "    rainfall_list = []\n",
    "    \n",
    "    # List of months names\n",
    "    months = ['January', 'February', 'March', 'April', 'May', 'June', 'July', 'August', 'September', 'October', 'November', 'December']\n",
    "    \n",
    "    # Get rainfall from the user for each month\n",
    "    for month in months:\n",
    "        rainfall = float(input(f'Enter the rainfall for the {month}: '))\n",
    "        rainfall_list.append(rainfall)\n",
    "        \n",
    "    # Total rainfall for the year\n",
    "    total_rainfall = sum(rainfall_list)\n",
    "    \n",
    "    # Average rainfall monthly\n",
    "    average_rainfall = total_rainfall / len(raifall_list)"
   ]
  },
  {
   "cell_type": "code",
   "execution_count": null,
   "id": "6979d8bd",
   "metadata": {},
   "outputs": [],
   "source": []
  }
 ],
 "metadata": {
  "kernelspec": {
   "display_name": "Python 3 (ipykernel)",
   "language": "python",
   "name": "python3"
  },
  "language_info": {
   "codemirror_mode": {
    "name": "ipython",
    "version": 3
   },
   "file_extension": ".py",
   "mimetype": "text/x-python",
   "name": "python",
   "nbconvert_exporter": "python",
   "pygments_lexer": "ipython3",
   "version": "3.11.4"
  }
 },
 "nbformat": 4,
 "nbformat_minor": 5
}
